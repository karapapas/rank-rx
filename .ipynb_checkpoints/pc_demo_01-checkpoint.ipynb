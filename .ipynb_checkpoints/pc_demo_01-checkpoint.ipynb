{
 "cells": [
  {
   "cell_type": "code",
   "execution_count": null,
   "id": "5a48b651-8003-4462-b12c-4e394404fecd",
   "metadata": {},
   "outputs": [],
   "source": [
    "# conda install pytorch torchvision torchaudio cpuonly -c pytorch"
   ]
  },
  {
   "cell_type": "code",
   "execution_count": 1,
   "id": "f361a590-36cc-4bdb-b7a5-253a460efa06",
   "metadata": {},
   "outputs": [],
   "source": [
    "import pandas as pd\n",
    "import numpy as np\n",
    "import torch\n",
    "import torch.nn as nn\n",
    "import torch.optim as optim\n",
    "from torch.utils.data import DataLoader, Dataset\n",
    "from sklearn.model_selection import KFold\n",
    "from sklearn.preprocessing import StandardScaler\n",
    "from sklearn.datasets import make_regression\n",
    "from tqdm import tqdm"
   ]
  },
  {
   "cell_type": "code",
   "execution_count": 2,
   "id": "278a1f0e-f5f6-4c8b-ab50-4340f4766b76",
   "metadata": {},
   "outputs": [
    {
     "name": "stdout",
     "output_type": "stream",
     "text": [
      "Shape of df_dose_resp_gdsc2 = (118908, 3)\n",
      "Unique cell lines (ARXSPAN_ID) = 793\n",
      "Unique drugs = 175\n",
      "Unique combinations of cell line x drug = 116202\n",
      "<bound method NDFrame.head of         DRUG_ID  ARXSPAN_ID  IC50_PUBLISHED\n",
      "268718     1003  ACH-000958        0.025129\n",
      "268719     1003  ACH-000651        0.049577\n",
      "268720     1003  ACH-000856        0.028549\n",
      "268721     1003  ACH-000360        0.039996\n",
      "268722     1003  ACH-001199        1.986678\n",
      "...         ...         ...             ...\n",
      "387621     2172  ACH-000288       25.410793\n",
      "387622     2172  ACH-001065        0.339325\n",
      "387623     2172  ACH-000930        7.780877\n",
      "387624     2172  ACH-000859      534.688321\n",
      "387625     2172  ACH-000536      120.177282\n",
      "\n",
      "[118908 rows x 3 columns]>\n"
     ]
    }
   ],
   "source": [
    "# https://depmap.org/portal/data_page/?tab=allData&releasename=Sanger+GDSC1+and+GDSC2&filename=sanger-dose-response.csv\n",
    "# IC50 score of drugs (DRUG_ID) per cell line (COSMIC_ID) for GDSC1 and GDSC2 \n",
    "try:\n",
    "    df_dose_resp = pd.read_csv(\"C:\\\\Users\\\\chris\\\\rank-rx\\\\data\\\\sanger-dose-response.csv\", delimiter=',')\n",
    "    df_dose_resp_gdsc2 = df_dose_resp[(df_dose_resp.DATASET == \"GDSC2\")]\n",
    "    df_dose_resp_gdsc2_edited = df_dose_resp_gdsc2.filter(items = ['DRUG_ID', 'ARXSPAN_ID', 'IC50_PUBLISHED'])\n",
    "    print(\"Shape of df_dose_resp_gdsc2 = {}\".format(df_dose_resp_gdsc2_edited.shape))\n",
    "    print(\"Unique cell lines (ARXSPAN_ID) = {}\".format(df_dose_resp_gdsc2_edited['ARXSPAN_ID'].nunique()))\n",
    "    print(\"Unique drugs = {}\".format(df_dose_resp_gdsc2_edited['DRUG_ID'].nunique()))\n",
    "    print(\"Unique combinations of cell line x drug = {}\".format(df_dose_resp_gdsc2_edited.groupby(['ARXSPAN_ID', 'DRUG_ID']).size().count()))\n",
    "    print(df_dose_resp_gdsc2_edited.head)\n",
    "except pd.errors.ParserError as e:\n",
    "    print(f\"Error: {e}\")"
   ]
  },
  {
   "cell_type": "code",
   "execution_count": 3,
   "id": "ddeec08c-c054-4214-a865-35eb5a97d69b",
   "metadata": {},
   "outputs": [
    {
     "name": "stdout",
     "output_type": "stream",
     "text": [
      "Shape of df_depmap_model = (1959, 4)\n",
      "Unique cell lines (ModelID) ACH-XXXXXX = 1959\n",
      "Unique cell lines (SangerModelID) = 1215\n",
      "Unique cell lines (COSMICID) = 977\n"
     ]
    }
   ],
   "source": [
    "# https://depmap.org/portal/data_page/?tab=allData&releasename=DepMap+Public+24Q2&filename=Model.csv\n",
    "# Mapping between 'ModelID', 'PatientID', 'SangerModelID', 'COSMICID', etc\n",
    "try:\n",
    "    df_depmap_model = pd.read_csv(\"C:\\\\Users\\\\chris\\\\rank-rx\\\\data\\\\Model.csv\", delimiter=',')\n",
    "    df_depmap_model_edited = df_depmap_model.filter(items=['ModelID', 'PatientID', 'SangerModelID', 'COSMICID'])\n",
    "    print(\"Shape of df_depmap_model = {}\".format(df_depmap_model_edited.shape))\n",
    "    print(\"Unique cell lines (ModelID) ACH-XXXXXX = {}\".format(df_depmap_model_edited['ModelID'].nunique()))\n",
    "    print(\"Unique cell lines (SangerModelID) = {}\".format(df_depmap_model_edited['SangerModelID'].nunique()))\n",
    "    print(\"Unique cell lines (COSMICID) = {}\".format(df_depmap_model_edited['COSMICID'].nunique()))\n",
    "    # print(df_depmap_model_edited.head())\n",
    "except pd.errors.ParserError as e:\n",
    "    print(f\"Error: {e}\")"
   ]
  },
  {
   "cell_type": "code",
   "execution_count": 4,
   "id": "84ba5e84-2171-43e5-b385-233d27b5bcae",
   "metadata": {},
   "outputs": [
    {
     "name": "stdout",
     "output_type": "stream",
     "text": [
      "Shape of df_gene_express = (1517, 19138)\n"
     ]
    }
   ],
   "source": [
    "# gene expression data OmicsExpressionProteinCodingGenesTPMLogp1BatchCorrected\n",
    "try:\n",
    "    df_gene_express = pd.read_csv(\"C:\\\\Users\\\\chris\\\\rank-rx\\\\data\\\\OmicsExpressionProteinCodingGenesTPMLogp1BatchCorrected.csv\", delimiter=',', low_memory=False)\n",
    "    print(\"Shape of df_gene_express = {}\".format(df_gene_express.shape))\n",
    "    \n",
    "except pd.errors.ParserError as e:\n",
    "    print(f\"Error: {e}\")"
   ]
  },
  {
   "cell_type": "code",
   "execution_count": null,
   "id": "3bfa2ea4-8f01-4b97-93f7-aec75066e39c",
   "metadata": {},
   "outputs": [],
   "source": []
  },
  {
   "cell_type": "code",
   "execution_count": 9,
   "id": "c2080a2d-0673-485f-951d-bc438b877502",
   "metadata": {},
   "outputs": [
    {
     "name": "stdout",
     "output_type": "stream",
     "text": [
      "Shape of df_dose_model = (115502, 7)\n",
      "   DRUG_ID  ARXSPAN_ID  IC50_PUBLISHED     ModelID  PatientID SangerModelID  \\\n",
      "0     1003  ACH-000958        0.025129  ACH-000958  PT-EB6qeM     SIDM00837   \n",
      "1     1003  ACH-000651        0.049577  ACH-000651  PT-IPboWn     SIDM00841   \n",
      "2     1003  ACH-000856        0.028549  ACH-000856  PT-PgOEtc     SIDM00933   \n",
      "3     1003  ACH-000360        0.039996  ACH-000360  PT-M0lnCb     SIDM00777   \n",
      "4     1003  ACH-001199        1.986678  ACH-001199  PT-GfrL06     SIDM00781   \n",
      "\n",
      "   COSMICID  \n",
      "0  909751.0  \n",
      "1  905962.0  \n",
      "2  910927.0  \n",
      "3  908442.0  \n",
      "4  909740.0  \n"
     ]
    }
   ],
   "source": [
    "# Merge ic50 dataset with model dataset\n",
    "# This should have been 118908 rows just like df_dose_resp_gdsc2 but it's 115502 probably because model df doesn't have some cell lines of ic50 df.\n",
    "try:\n",
    "    assert df_dose_resp_gdsc2_edited[\"ARXSPAN_ID\"].dtype == df_depmap_model_edited[\"ModelID\"].dtype\n",
    "    df_dose_model = pd.merge(df_dose_resp_gdsc2_edited, df_depmap_model_edited, left_on=\"ARXSPAN_ID\", right_on=\"ModelID\")\n",
    "    print(\"Shape of df_dose_model = {}\".format(df_dose_model.shape))\n",
    "    print(df_dose_model.head())\n",
    "except pd.errors.ParserError as e:\n",
    "    print(f\"Error: {e}\")"
   ]
  },
  {
   "cell_type": "code",
   "execution_count": null,
   "id": "1909e094-9d67-4f79-9659-86258ba75daa",
   "metadata": {},
   "outputs": [],
   "source": [
    "# Merge ic50/model dataset with gene expression dataset\n",
    "try:\n",
    "    assert df_dose_model[\"ARXSPAN_ID\"].dtype == df_gene_express[\"depmap_id\"].dtype\n",
    "    df_dose_model_gene_express = pd.merge(df_dose_model, df_gene_express, left_on=\"ARXSPAN_ID\", right_on=df_gene_express.columns[0])\n",
    "    print(\"Shape of df_dose_model_gene_express = {}\".format(df_dose_model_gene_express.shape))\n",
    "    print(df_dose_model_gene_express.head())\n",
    "except pd.errors.ParserError as e:\n",
    "    print(f\"Error: {e}\")"
   ]
  },
  {
   "cell_type": "code",
   "execution_count": null,
   "id": "761ce4be-0b93-4957-a8f4-f908b854efa6",
   "metadata": {},
   "outputs": [],
   "source": [
    "# Filter columns to be used as features in X\n",
    "dataset_final = df_dose_model_crispr.select_dtypes(include=[np.number])\n",
    "print(\"Shape of dataset_final = {}\".format(dataset_final.shape))\n",
    "\n",
    "# TODO preprocessing to convert non-numerical columns we want to keep as features"
   ]
  },
  {
   "cell_type": "code",
   "execution_count": null,
   "id": "c151355c-5464-4a34-af0d-57373293de76",
   "metadata": {},
   "outputs": [],
   "source": [
    "# # Check for NANs\n",
    "# print(dataset_final.isna().sum().sort_values(ascending=False))\n",
    "# # dataset_final_filled = dataset_final.fillna(0)\n",
    "print(dataset_final.isna().sum().sort_values(ascending=False))"
   ]
  },
  {
   "cell_type": "code",
   "execution_count": null,
   "id": "514c7abd-5252-4120-8a20-35e0403a397c",
   "metadata": {},
   "outputs": [],
   "source": [
    "# Define a simple ranking dataset\n",
    "class RankingDataset(Dataset):\n",
    "    def __init__(self, features, targets):\n",
    "        self.features = features\n",
    "        self.targets = targets\n",
    "\n",
    "    def __len__(self):\n",
    "        return len(self.features)\n",
    "\n",
    "    def __getitem__(self, idx):\n",
    "        return self.features[idx], self.targets[idx]\n",
    "\n",
    "# Define a simple neural network for ranking\n",
    "class SimpleRankingNN(nn.Module):\n",
    "    def __init__(self, input_size):\n",
    "        super(SimpleRankingNN, self).__init__()\n",
    "        self.fc1 = nn.Linear(input_size, 50)\n",
    "        self.relu = nn.ReLU()\n",
    "        self.fc2 = nn.Linear(50, 1)  # Output single score for ranking\n",
    "\n",
    "    def forward(self, x):\n",
    "        x = self.fc1(x)\n",
    "        x = self.relu(x)\n",
    "        x = self.fc2(x)\n",
    "        return x"
   ]
  },
  {
   "cell_type": "code",
   "execution_count": null,
   "id": "4122cd7d-5f8f-47e3-afb9-7f5d908af88f",
   "metadata": {},
   "outputs": [],
   "source": [
    "# Split into features (X) and target (y)\n",
    "y = dataset_final['IC50_PUBLISHED'].values\n",
    "X = dataset_final.drop(columns=['IC50_PUBLISHED']).values\n",
    "\n",
    "# Standardize the dataset\n",
    "scaler = StandardScaler()\n",
    "X = scaler.fit_transform(X)\n",
    "\n",
    "# Convert to PyTorch tensors\n",
    "X = torch.tensor(X, dtype=torch.float32)\n",
    "y = torch.tensor(y, dtype=torch.float32)\n",
    "\n",
    "# Training parameters\n",
    "learning_rate = 0.001\n",
    "num_epochs = 20\n",
    "batch_size = 32\n",
    "k_folds = 5\n",
    "\n",
    "# Cross-validation\n",
    "kfold = KFold(n_splits=k_folds, shuffle=True, random_state=42)\n",
    "results = {}\n",
    "\n",
    "for fold, (train_idx, val_idx) in enumerate(kfold.split(X)):\n",
    "    print(f'Fold {fold + 1}/{k_folds}')\n",
    "\n",
    "    # Create data loaders\n",
    "    train_dataset = RankingDataset(X[train_idx], y[train_idx])\n",
    "    val_dataset = RankingDataset(X[val_idx], y[val_idx])\n",
    "    \n",
    "    train_loader = DataLoader(train_dataset, batch_size=batch_size, shuffle=True)\n",
    "    val_loader = DataLoader(val_dataset, batch_size=batch_size, shuffle=False)\n",
    "\n",
    "    # Initialize the model, loss function, and optimizer\n",
    "    model = SimpleRankingNN(input_size=X.shape[1])\n",
    "    criterion = nn.MSELoss()\n",
    "    optimizer = optim.Adam(model.parameters(), lr=learning_rate)\n",
    "\n",
    "    # Training loop with progress bar\n",
    "    for epoch in tqdm(range(num_epochs), desc=f\"Training Fold {fold+1}/{k_folds}\"):\n",
    "        model.train()\n",
    "        for batch_features, batch_targets in tqdm(train_loader, desc=f\"Epoch {epoch+1}/{num_epochs}\", leave=False):\n",
    "            optimizer.zero_grad()\n",
    "            outputs = model(batch_features).squeeze()\n",
    "            loss = criterion(outputs, batch_targets)\n",
    "            loss.backward()\n",
    "            optimizer.step()\n",
    "\n",
    "    # Validation with progress bar\n",
    "    model.eval()\n",
    "    val_loss = 0\n",
    "    val_rmse = 0\n",
    "    total = 0\n",
    "    with torch.no_grad():\n",
    "        for batch_features, batch_targets in tqdm(val_loader, desc=f\"Validating Fold {fold+1}/{k_folds}\", leave=False):\n",
    "            outputs = model(batch_features).squeeze()\n",
    "            loss = criterion(outputs, batch_targets)\n",
    "            val_loss += loss.item()\n",
    "            val_rmse += torch.sqrt(loss).item() * batch_targets.size(0)\n",
    "            total += batch_targets.size(0)\n",
    "\n",
    "    avg_val_loss = val_loss / len(val_loader)\n",
    "    avg_val_rmse = val_rmse / total\n",
    "    print(f'Validation Loss: {avg_val_loss:.4f}, RMSE: {avg_val_rmse:.4f}')\n",
    "    results[fold] = avg_val_rmse\n",
    "\n",
    "# Print fold results\n",
    "print(f'\\nK-Fold Cross Validation results for {k_folds} folds')\n",
    "for key, value in results.items():\n",
    "    print(f'Fold {key+1}: RMSE {value:.4f}')\n",
    "print(f'Average RMSE: {np.mean(list(results.values())):.4f}')\n"
   ]
  },
  {
   "cell_type": "code",
   "execution_count": null,
   "id": "ccd2039c-73bb-47fc-9556-cf5db3e8c39f",
   "metadata": {},
   "outputs": [],
   "source": []
  }
 ],
 "metadata": {
  "kernelspec": {
   "display_name": "Python 3 (ipykernel)",
   "language": "python",
   "name": "python3"
  },
  "language_info": {
   "codemirror_mode": {
    "name": "ipython",
    "version": 3
   },
   "file_extension": ".py",
   "mimetype": "text/x-python",
   "name": "python",
   "nbconvert_exporter": "python",
   "pygments_lexer": "ipython3",
   "version": "3.12.4"
  }
 },
 "nbformat": 4,
 "nbformat_minor": 5
}
