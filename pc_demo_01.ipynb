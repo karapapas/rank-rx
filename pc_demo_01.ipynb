{
 "cells": [
  {
   "cell_type": "code",
   "execution_count": 1,
   "id": "5a48b651-8003-4462-b12c-4e394404fecd",
   "metadata": {},
   "outputs": [],
   "source": [
    "# conda install pytorch torchvision torchaudio cpuonly -c pytorch\n",
    "# conda install conda-forge::polars\n",
    "# conda install conda-forge::xgboost"
   ]
  },
  {
   "cell_type": "code",
   "execution_count": 2,
   "id": "f361a590-36cc-4bdb-b7a5-253a460efa06",
   "metadata": {},
   "outputs": [],
   "source": [
    "import polars as pl\n",
    "import numpy as np\n",
    "import torch\n",
    "import torch.nn as nn\n",
    "import torch.optim as optim\n",
    "from torch.utils.data import DataLoader, Dataset\n",
    "from sklearn.model_selection import train_test_split, KFold\n",
    "from sklearn.preprocessing import LabelEncoder, StandardScaler\n",
    "from sklearn.datasets import make_regression\n",
    "from tqdm import tqdm\n",
    "import xgboost as xgb"
   ]
  },
  {
   "cell_type": "code",
   "execution_count": 3,
   "id": "278a1f0e-f5f6-4c8b-ab50-4340f4766b76",
   "metadata": {},
   "outputs": [
    {
     "name": "stdout",
     "output_type": "stream",
     "text": [
      "Shape of df_dose_resp_gdsc2 = (118908, 3)\n",
      "Unique cell lines (ARXSPAN_ID) = 794\n",
      "Unique drugs = 175\n",
      "Unique combinations of cell line x drug = 116377\n",
      "<bound method DataFrame.head of shape: (118_908, 3)\n",
      "┌─────────┬────────────┬────────────────┐\n",
      "│ DRUG_ID ┆ ARXSPAN_ID ┆ IC50_PUBLISHED │\n",
      "│ ---     ┆ ---        ┆ ---            │\n",
      "│ i64     ┆ str        ┆ f64            │\n",
      "╞═════════╪════════════╪════════════════╡\n",
      "│ 1003    ┆ ACH-000958 ┆ 0.025129       │\n",
      "│ 1003    ┆ ACH-000651 ┆ 0.049577       │\n",
      "│ 1003    ┆ ACH-000856 ┆ 0.028549       │\n",
      "│ 1003    ┆ ACH-000360 ┆ 0.039996       │\n",
      "│ 1003    ┆ ACH-001199 ┆ 1.986678       │\n",
      "│ …       ┆ …          ┆ …              │\n",
      "│ 2172    ┆ ACH-000288 ┆ 25.410793      │\n",
      "│ 2172    ┆ ACH-001065 ┆ 0.339325       │\n",
      "│ 2172    ┆ ACH-000930 ┆ 7.780877       │\n",
      "│ 2172    ┆ ACH-000859 ┆ 534.688321     │\n",
      "│ 2172    ┆ ACH-000536 ┆ 120.177282     │\n",
      "└─────────┴────────────┴────────────────┘>\n"
     ]
    }
   ],
   "source": [
    "# Read cell line to drug id to ic50\n",
    "# https://depmap.org/portal/data_page/?tab=allData&releasename=Sanger+GDSC1+and+GDSC2&filename=sanger-dose-response.csv\n",
    "# IC50 score of drugs (DRUG_ID) per cell line (COSMIC_ID) for GDSC1 and GDSC2 \n",
    "try:\n",
    "    df_dose_resp = pl.read_csv(\"C:\\\\Users\\\\chris\\\\rank-rx\\\\data\\\\sanger-dose-response.csv\")\n",
    "    df_dose_resp_gdsc2 = df_dose_resp.filter(pl.col(\"DATASET\") == \"GDSC2\")\n",
    "    df_dose_resp_gdsc2_edited = df_dose_resp_gdsc2.select([\"DRUG_ID\", \"ARXSPAN_ID\", \"IC50_PUBLISHED\"])\n",
    "    print(\"Shape of df_dose_resp_gdsc2 = {}\".format(df_dose_resp_gdsc2_edited.shape))\n",
    "    print(\"Unique cell lines (ARXSPAN_ID) = {}\".format(df_dose_resp_gdsc2_edited['ARXSPAN_ID'].unique().len()))\n",
    "    print(\"Unique drugs = {}\".format(df_dose_resp_gdsc2_edited['DRUG_ID'].unique().len()))\n",
    "    grouped = df_dose_resp_gdsc2_edited.group_by(['ARXSPAN_ID', 'DRUG_ID']).agg(pl.len())\n",
    "    print(\"Unique combinations of cell line x drug = {}\".format(grouped.shape[0]))\n",
    "    print(df_dose_resp_gdsc2_edited.head)\n",
    "except Exception as e:\n",
    "    print(f\"Error: {e}\")"
   ]
  },
  {
   "cell_type": "code",
   "execution_count": 4,
   "id": "ddeec08c-c054-4214-a865-35eb5a97d69b",
   "metadata": {},
   "outputs": [
    {
     "name": "stdout",
     "output_type": "stream",
     "text": [
      "Shape of df_depmap_model = (1959, 6)\n",
      "Unique cell lines (ModelID) ACH-XXXXXX = 1959\n",
      "shape: (5, 6)\n",
      "┌────────────┬──────────────┬─────────────┬────────┬─────────────┬─────────────────────┐\n",
      "│ ModelID    ┆ OncotreeCode ┆ AgeCategory ┆ Sex    ┆ PatientRace ┆ PrimaryOrMetastasis │\n",
      "│ ---        ┆ ---          ┆ ---         ┆ ---    ┆ ---         ┆ ---                 │\n",
      "│ str        ┆ str          ┆ str         ┆ str    ┆ str         ┆ str                 │\n",
      "╞════════════╪══════════════╪═════════════╪════════╪═════════════╪═════════════════════╡\n",
      "│ ACH-000001 ┆ HGSOC        ┆ Adult       ┆ Female ┆ caucasian   ┆ Metastatic          │\n",
      "│ ACH-000002 ┆ AML          ┆ Adult       ┆ Female ┆ caucasian   ┆ Primary             │\n",
      "│ ACH-000003 ┆ COAD         ┆ Adult       ┆ Male   ┆ caucasian   ┆ Primary             │\n",
      "│ ACH-000004 ┆ AML          ┆ Adult       ┆ Male   ┆ caucasian   ┆ Primary             │\n",
      "│ ACH-000005 ┆ AML          ┆ Adult       ┆ Male   ┆ caucasian   ┆ null                │\n",
      "└────────────┴──────────────┴─────────────┴────────┴─────────────┴─────────────────────┘\n"
     ]
    }
   ],
   "source": [
    "# Read demographics and cancer type\n",
    "# https://depmap.org/portal/data_page/?tab=allData&releasename=DepMap+Public+24Q2&filename=Model.csv\n",
    "# Mapping between 'ModelID', 'PatientID', 'SangerModelID', 'COSMICID', etc\n",
    "# ModelID here is the cell line id.\n",
    "# OncotreeCode is the type of cancer.\n",
    "try:\n",
    "    df_depmap_model = pl.read_csv(\"C:\\\\Users\\\\chris\\\\rank-rx\\\\data\\\\Model.csv\")\n",
    "    df_depmap_model_edited = df_depmap_model.select(['ModelID', 'OncotreeCode', 'AgeCategory', 'Sex', 'PatientRace', 'PrimaryOrMetastasis'])\n",
    "    print(\"Shape of df_depmap_model = {}\".format(df_depmap_model_edited.shape))\n",
    "    print(\"Unique cell lines (ModelID) ACH-XXXXXX = {}\".format(df_depmap_model_edited['ModelID'].unique().len()))\n",
    "    print(df_depmap_model_edited.head())\n",
    "except Exception as e:\n",
    "    print(f\"Error: {e}\")"
   ]
  },
  {
   "cell_type": "code",
   "execution_count": 5,
   "id": "84ba5e84-2171-43e5-b385-233d27b5bcae",
   "metadata": {},
   "outputs": [
    {
     "name": "stdout",
     "output_type": "stream",
     "text": [
      "Shape of df_gene_express = (1517, 19138)\n"
     ]
    }
   ],
   "source": [
    "# Read gene expression data OmicsExpressionProteinCodingGenesTPMLogp1BatchCorrected\n",
    "try:\n",
    "    df_gene_express = pl.read_csv(\"C:\\\\Users\\\\chris\\\\rank-rx\\\\data\\\\OmicsExpressionProteinCodingGenesTPMLogp1BatchCorrected.csv\")\n",
    "    print(\"Shape of df_gene_express = {}\".format(df_gene_express.shape))\n",
    "except pl.errors.ParserError as e:\n",
    "    print(f\"Error: {e}\")"
   ]
  },
  {
   "cell_type": "code",
   "execution_count": 6,
   "id": "c2080a2d-0673-485f-951d-bc438b877502",
   "metadata": {},
   "outputs": [
    {
     "name": "stdout",
     "output_type": "stream",
     "text": [
      "Shape of df_dose_model = (115502, 8)\n",
      "shape: (5, 8)\n",
      "┌─────────┬────────────┬─────────────┬─────────────┬────────────┬────────┬────────────┬────────────┐\n",
      "│ DRUG_ID ┆ ARXSPAN_ID ┆ IC50_PUBLIS ┆ OncotreeCod ┆ AgeCategor ┆ Sex    ┆ PatientRac ┆ PrimaryOrM │\n",
      "│ ---     ┆ ---        ┆ HED         ┆ e           ┆ y          ┆ ---    ┆ e          ┆ etastasis  │\n",
      "│ i64     ┆ str        ┆ ---         ┆ ---         ┆ ---        ┆ str    ┆ ---        ┆ ---        │\n",
      "│         ┆            ┆ f64         ┆ str         ┆ str        ┆        ┆ str        ┆ str        │\n",
      "╞═════════╪════════════╪═════════════╪═════════════╪════════════╪════════╪════════════╪════════════╡\n",
      "│ 1003    ┆ ACH-000958 ┆ 0.025129    ┆ COAD        ┆ Adult      ┆ Female ┆ caucasian  ┆ Primary    │\n",
      "│ 1003    ┆ ACH-000651 ┆ 0.049577    ┆ COAD        ┆ Adult      ┆ Male   ┆ caucasian  ┆ Metastatic │\n",
      "│ 1003    ┆ ACH-000856 ┆ 0.028549    ┆ BRCA        ┆ Adult      ┆ Female ┆ null       ┆ Metastatic │\n",
      "│ 1003    ┆ ACH-000360 ┆ 0.039996    ┆ COAD        ┆ Adult      ┆ Male   ┆ caucasian  ┆ Metastatic │\n",
      "│ 1003    ┆ ACH-001199 ┆ 1.986678    ┆ COAD        ┆ Adult      ┆ Female ┆ asian      ┆ Primary    │\n",
      "└─────────┴────────────┴─────────────┴─────────────┴────────────┴────────┴────────────┴────────────┘\n"
     ]
    }
   ],
   "source": [
    "# Join ic50 dataset with model dataset\n",
    "# This should have been 118908 rows just like df_dose_resp_gdsc2 but it's 115502 probably because model df doesn't have some cell lines of ic50 df.\n",
    "try:\n",
    "    assert df_dose_resp_gdsc2_edited[\"ARXSPAN_ID\"].dtype == df_depmap_model_edited[\"ModelID\"].dtype\n",
    "    df_dose_model = df_dose_resp_gdsc2_edited.join(other = df_depmap_model_edited, left_on=\"ARXSPAN_ID\", right_on=\"ModelID\")\n",
    "    print(\"Shape of df_dose_model = {}\".format(df_dose_model.shape))\n",
    "    print(df_dose_model.head())\n",
    "except pl.errors.ParserError as e:\n",
    "    print(f\"Error: {e}\")"
   ]
  },
  {
   "cell_type": "code",
   "execution_count": 7,
   "id": "1909e094-9d67-4f79-9659-86258ba75daa",
   "metadata": {},
   "outputs": [
    {
     "name": "stdout",
     "output_type": "stream",
     "text": [
      "Shape of df_dose_model_gene_express = (88976, 19145)\n",
      "shape: (5, 19_145)\n",
      "┌─────────┬────────────┬───────────┬───────────┬───┬───────────┬───────────┬───────────┬───────────┐\n",
      "│ DRUG_ID ┆ ARXSPAN_ID ┆ IC50_PUBL ┆ OncotreeC ┆ … ┆ DNMT3B    ┆ ZCCHC10   ┆ PRSS2     ┆ ADAMTSL4  │\n",
      "│ ---     ┆ ---        ┆ ISHED     ┆ ode       ┆   ┆ (1789)    ┆ (54819)   ┆ (5645)    ┆ (54507)   │\n",
      "│ i64     ┆ str        ┆ ---       ┆ ---       ┆   ┆ ---       ┆ ---       ┆ ---       ┆ ---       │\n",
      "│         ┆            ┆ f64       ┆ str       ┆   ┆ f64       ┆ f64       ┆ f64       ┆ f64       │\n",
      "╞═════════╪════════════╪═══════════╪═══════════╪═══╪═══════════╪═══════════╪═══════════╪═══════════╡\n",
      "│ 1003    ┆ ACH-000958 ┆ 0.025129  ┆ COAD      ┆ … ┆ 2.072003  ┆ 4.69381   ┆ 0.240879  ┆ 0.560533  │\n",
      "│ 1003    ┆ ACH-000651 ┆ 0.049577  ┆ COAD      ┆ … ┆ 2.745968  ┆ 4.884648  ┆ 3.368963  ┆ 0.335325  │\n",
      "│ 1003    ┆ ACH-000856 ┆ 0.028549  ┆ BRCA      ┆ … ┆ 3.51348   ┆ 4.950103  ┆ -0.054202 ┆ 2.401006  │\n",
      "│ 1003    ┆ ACH-000360 ┆ 0.039996  ┆ COAD      ┆ … ┆ 0.986766  ┆ 3.83695   ┆ 0.107339  ┆ 0.082209  │\n",
      "│ 1003    ┆ ACH-000400 ┆ 0.00482   ┆ COAD      ┆ … ┆ 1.551088  ┆ 4.322617  ┆ 0.068637  ┆ 1.521804  │\n",
      "└─────────┴────────────┴───────────┴───────────┴───┴───────────┴───────────┴───────────┴───────────┘\n"
     ]
    }
   ],
   "source": [
    "# Join ic50 & model dataset with gene expression dataset\n",
    "try:\n",
    "    assert df_dose_model[\"ARXSPAN_ID\"].dtype == df_gene_express[\"ARXSPAN_ID\"].dtype\n",
    "    df_dose_model_gene_express = df_dose_model.join(df_gene_express, left_on=\"ARXSPAN_ID\", right_on=df_gene_express.columns[0])\n",
    "    print(\"Shape of df_dose_model_gene_express = {}\".format(df_dose_model_gene_express.shape))\n",
    "    print(df_dose_model_gene_express.head())\n",
    "except Exception as e:\n",
    "    print(f\"Error: {e}\")"
   ]
  },
  {
   "cell_type": "code",
   "execution_count": 8,
   "id": "48695fa5-8bec-46d6-a6ac-9461b154dfac",
   "metadata": {},
   "outputs": [],
   "source": [
    "# TODO check patient profile distribution between train test, how many men/women, age distribution, etc..."
   ]
  },
  {
   "cell_type": "code",
   "execution_count": 9,
   "id": "6842a7bc-84e2-400f-aebb-8d9cfb770138",
   "metadata": {},
   "outputs": [],
   "source": [
    "# Encode categorical features\n",
    "label_encoders = {}\n",
    "for column in ['ARXSPAN_ID', 'OncotreeCode', 'AgeCategory', 'Sex', 'PatientRace', 'PrimaryOrMetastasis']:\n",
    "    le = LabelEncoder()\n",
    "    df_dose_model_gene_express = df_dose_model_gene_express.with_columns(pl.Series(column, le.fit_transform(df_dose_model_gene_express[column].to_list())))\n",
    "    label_encoders[column] = le"
   ]
  },
  {
   "cell_type": "code",
   "execution_count": 105,
   "id": "0b1906f9-97da-470c-9f50-36d1628da347",
   "metadata": {},
   "outputs": [],
   "source": [
    "# Prepare the features and target\n",
    "features = ['DRUG_ID', 'ARXSPAN_ID', 'OncotreeCode', 'AgeCategory', 'Sex', 'PatientRace', 'PrimaryOrMetastasis']\n",
    "target = 'IC50_PUBLISHED'\n",
    "\n",
    "prediction_features = ['OncotreeCode', 'AgeCategory', 'Sex', 'PatientRace', 'PrimaryOrMetastasis']\n",
    "\n",
    "# X = df_dose_model_gene_express[features]\n",
    "# print(X.head(20))\n",
    "\n",
    "\n",
    "df_dose_model_gene_express = df_dose_model_gene_express.with_columns(pl.col('IC50_PUBLISHED').round().cast(pl.Int32))\n",
    "\n",
    "# Scale the IC50_PUBLISHED values to 0-31 using expression\n",
    "df_dose_model_gene_express = df_dose_model_gene_express.with_columns([\n",
    "    ((pl.col(target) - pl.col(target).min()) /\n",
    "     (pl.col(target).max() - pl.col(target).min()) * 31).round().cast(pl.Int32).alias(target)\n",
    "])\n",
    "# y = df_dose_model_gene_express['IC50_PUBLISHED']\n",
    "# print(y.head(20))\n"
   ]
  },
  {
   "cell_type": "code",
   "execution_count": 107,
   "id": "948deec4-21f5-4fe5-abd5-7d7aa645b31e",
   "metadata": {},
   "outputs": [
    {
     "name": "stdout",
     "output_type": "stream",
     "text": [
      "Shape of train_data = (70937, 19145)\n",
      "shape: (5, 19_145)\n",
      "┌─────────┬────────────┬───────────┬───────────┬───┬───────────┬───────────┬───────────┬───────────┐\n",
      "│ DRUG_ID ┆ ARXSPAN_ID ┆ IC50_PUBL ┆ OncotreeC ┆ … ┆ DNMT3B    ┆ ZCCHC10   ┆ PRSS2     ┆ ADAMTSL4  │\n",
      "│ ---     ┆ ---        ┆ ISHED     ┆ ode       ┆   ┆ (1789)    ┆ (54819)   ┆ (5645)    ┆ (54507)   │\n",
      "│ i64     ┆ i64        ┆ ---       ┆ ---       ┆   ┆ ---       ┆ ---       ┆ ---       ┆ ---       │\n",
      "│         ┆            ┆ i32       ┆ i32       ┆   ┆ f64       ┆ f64       ┆ f64       ┆ f64       │\n",
      "╞═════════╪════════════╪═══════════╪═══════════╪═══╪═══════════╪═══════════╪═══════════╪═══════════╡\n",
      "│ 1003    ┆ 514        ┆ 0         ┆ 21        ┆ … ┆ 2.072003  ┆ 4.69381   ┆ 0.240879  ┆ 0.560533  │\n",
      "│ 1003    ┆ 333        ┆ 0         ┆ 21        ┆ … ┆ 2.745968  ┆ 4.884648  ┆ 3.368963  ┆ 0.335325  │\n",
      "│ 1003    ┆ 448        ┆ 0         ┆ 13        ┆ … ┆ 3.51348   ┆ 4.950103  ┆ -0.054202 ┆ 2.401006  │\n",
      "│ 1003    ┆ 185        ┆ 0         ┆ 21        ┆ … ┆ 0.986766  ┆ 3.83695   ┆ 0.107339  ┆ 0.082209  │\n",
      "│ 1003    ┆ 207        ┆ 0         ┆ 21        ┆ … ┆ 1.551088  ┆ 4.322617  ┆ 0.068637  ┆ 1.521804  │\n",
      "└─────────┴────────────┴───────────┴───────────┴───┴───────────┴───────────┴───────────┴───────────┘\n",
      "Shape of test_data = (18039, 19145)\n",
      "shape: (5, 19_145)\n",
      "┌─────────┬────────────┬───────────┬───────────┬───┬───────────┬───────────┬───────────┬───────────┐\n",
      "│ DRUG_ID ┆ ARXSPAN_ID ┆ IC50_PUBL ┆ OncotreeC ┆ … ┆ DNMT3B    ┆ ZCCHC10   ┆ PRSS2     ┆ ADAMTSL4  │\n",
      "│ ---     ┆ ---        ┆ ISHED     ┆ ode       ┆   ┆ (1789)    ┆ (54819)   ┆ (5645)    ┆ (54507)   │\n",
      "│ i64     ┆ i64        ┆ ---       ┆ ---       ┆   ┆ ---       ┆ ---       ┆ ---       ┆ ---       │\n",
      "│         ┆            ┆ i32       ┆ i32       ┆   ┆ f64       ┆ f64       ┆ f64       ┆ f64       │\n",
      "╞═════════╪════════════╪═══════════╪═══════════╪═══╪═══════════╪═══════════╪═══════════╪═══════════╡\n",
      "│ 1003    ┆ 536        ┆ 0         ┆ 58        ┆ … ┆ 2.013664  ┆ 4.716112  ┆ 1.61707   ┆ -0.062675 │\n",
      "│ 1003    ┆ 368        ┆ 0         ┆ 49        ┆ … ┆ 2.534294  ┆ 4.230593  ┆ -0.054202 ┆ 7.865699  │\n",
      "│ 1003    ┆ 208        ┆ 0         ┆ 21        ┆ … ┆ 1.454038  ┆ 4.824047  ┆ 0.015345  ┆ 1.408427  │\n",
      "│ 1003    ┆ 72         ┆ 0         ┆ 14        ┆ … ┆ 2.318449  ┆ 3.933379  ┆ -0.054202 ┆ 4.401524  │\n",
      "│ 1003    ┆ 537        ┆ 0         ┆ 21        ┆ … ┆ 3.190011  ┆ 4.41009   ┆ 2.546535  ┆ 2.331256  │\n",
      "└─────────┴────────────┴───────────┴───────────┴───┴───────────┴───────────┴───────────┴───────────┘\n",
      "Shape of X_train = (70937, 7)\n",
      "shape: (5, 7)\n",
      "┌─────────┬────────────┬──────────────┬─────────────┬─────┬─────────────┬─────────────────────┐\n",
      "│ DRUG_ID ┆ ARXSPAN_ID ┆ OncotreeCode ┆ AgeCategory ┆ Sex ┆ PatientRace ┆ PrimaryOrMetastasis │\n",
      "│ ---     ┆ ---        ┆ ---          ┆ ---         ┆ --- ┆ ---         ┆ ---                 │\n",
      "│ i64     ┆ i64        ┆ i32          ┆ i64         ┆ i64 ┆ i32         ┆ i32                 │\n",
      "╞═════════╪════════════╪══════════════╪═════════════╪═════╪═════════════╪═════════════════════╡\n",
      "│ 1003    ┆ 514        ┆ 21           ┆ 0           ┆ 0   ┆ 3           ┆ 1                   │\n",
      "│ 1003    ┆ 333        ┆ 21           ┆ 0           ┆ 1   ┆ 3           ┆ 0                   │\n",
      "│ 1003    ┆ 448        ┆ 13           ┆ 0           ┆ 0   ┆ 7           ┆ 0                   │\n",
      "│ 1003    ┆ 185        ┆ 21           ┆ 0           ┆ 1   ┆ 3           ┆ 0                   │\n",
      "│ 1003    ┆ 207        ┆ 21           ┆ 0           ┆ 1   ┆ 3           ┆ 0                   │\n",
      "└─────────┴────────────┴──────────────┴─────────────┴─────┴─────────────┴─────────────────────┘\n",
      "Shape of y_train = (70937, 1)\n",
      "shape: (5, 1)\n",
      "┌────────────────┐\n",
      "│ IC50_PUBLISHED │\n",
      "│ ---            │\n",
      "│ i32            │\n",
      "╞════════════════╡\n",
      "│ 0              │\n",
      "│ 0              │\n",
      "│ 0              │\n",
      "│ 0              │\n",
      "│ 0              │\n",
      "└────────────────┘\n",
      "Shape of X_test = (18039, 7)\n",
      "shape: (5, 7)\n",
      "┌─────────┬────────────┬──────────────┬─────────────┬─────┬─────────────┬─────────────────────┐\n",
      "│ DRUG_ID ┆ ARXSPAN_ID ┆ OncotreeCode ┆ AgeCategory ┆ Sex ┆ PatientRace ┆ PrimaryOrMetastasis │\n",
      "│ ---     ┆ ---        ┆ ---          ┆ ---         ┆ --- ┆ ---         ┆ ---                 │\n",
      "│ i64     ┆ i64        ┆ i32          ┆ i64         ┆ i64 ┆ i32         ┆ i32                 │\n",
      "╞═════════╪════════════╪══════════════╪═════════════╪═════╪═════════════╪═════════════════════╡\n",
      "│ 1003    ┆ 536        ┆ 58           ┆ 0           ┆ 0   ┆ 1           ┆ 0                   │\n",
      "│ 1003    ┆ 368        ┆ 49           ┆ 0           ┆ 0   ┆ 7           ┆ 0                   │\n",
      "│ 1003    ┆ 208        ┆ 21           ┆ 0           ┆ 1   ┆ 3           ┆ 0                   │\n",
      "│ 1003    ┆ 72         ┆ 14           ┆ 0           ┆ 0   ┆ 3           ┆ 1                   │\n",
      "│ 1003    ┆ 537        ┆ 21           ┆ 0           ┆ 1   ┆ 1           ┆ 1                   │\n",
      "└─────────┴────────────┴──────────────┴─────────────┴─────┴─────────────┴─────────────────────┘\n",
      "Shape of y_test = (18039, 1)\n",
      "shape: (5, 1)\n",
      "┌────────────────┐\n",
      "│ IC50_PUBLISHED │\n",
      "│ ---            │\n",
      "│ i32            │\n",
      "╞════════════════╡\n",
      "│ 0              │\n",
      "│ 0              │\n",
      "│ 0              │\n",
      "│ 0              │\n",
      "│ 0              │\n",
      "└────────────────┘\n"
     ]
    }
   ],
   "source": [
    "# Group Shuffle and Split using Polars\n",
    "def group_shuffle_split(df, group_col, test_size=0.2, random_state=42):\n",
    "    np.random.seed(random_state)\n",
    "    groups = df[group_col].unique().to_list()\n",
    "    np.random.shuffle(groups)\n",
    "    test_groups = groups[:int(test_size * len(groups))]\n",
    "    train_groups = groups[int(test_size * len(groups)):]\n",
    "    \n",
    "    train_df = df.filter(pl.col(group_col).is_in(train_groups))\n",
    "    test_df = df.filter(pl.col(group_col).is_in(test_groups))\n",
    "    \n",
    "    return train_df, test_df\n",
    "\n",
    "train_data, test_data = group_shuffle_split(df_dose_model_gene_express, 'ARXSPAN_ID', test_size=0.2, random_state=42)\n",
    "print(\"Shape of train_data = {}\".format(train_data.shape))\n",
    "print(train_data.head())\n",
    "print(\"Shape of test_data = {}\".format(test_data.shape))\n",
    "print(test_data.head())\n",
    "\n",
    "\n",
    "# Separate features and target in train and test data\n",
    "X_train = train_data.select(features)\n",
    "print(\"Shape of X_train = {}\".format(X_train.shape))\n",
    "print(X_train.head())\n",
    "\n",
    "y_train = train_data.select(['IC50_PUBLISHED'])\n",
    "print(\"Shape of y_train = {}\".format(y_train.shape))\n",
    "print(y_train.head())\n",
    "\n",
    "X_test = test_data.select(features)\n",
    "print(\"Shape of X_test = {}\".format(X_test.shape))\n",
    "print(X_test.head())\n",
    "\n",
    "y_test = test_data.select(['IC50_PUBLISHED'])\n",
    "print(\"Shape of y_test = {}\".format(y_test.shape))\n",
    "print(y_test.head())"
   ]
  },
  {
   "cell_type": "code",
   "execution_count": 108,
   "id": "070f4b7d-74f2-4a4c-9f67-b7203c8e1324",
   "metadata": {},
   "outputs": [
    {
     "name": "stdout",
     "output_type": "stream",
     "text": [
      "shape of group_train: 482\n",
      "shape of group_test: 120\n",
      "Shape of dtrain DMatrix: (70937, 5)\n",
      "Shape of dtest DMatrix: (18039, 5)\n"
     ]
    },
    {
     "name": "stderr",
     "output_type": "stream",
     "text": [
      "C:\\Users\\chris\\AppData\\Local\\Temp\\ipykernel_8820\\1325659912.py:2: DeprecationWarning: `GroupBy.count` is deprecated. It has been renamed to `len`.\n",
      "  group_train = X_train.group_by('ARXSPAN_ID').count().select('count').to_series().to_list()\n",
      "C:\\Users\\chris\\AppData\\Local\\Temp\\ipykernel_8820\\1325659912.py:4: DeprecationWarning: `GroupBy.count` is deprecated. It has been renamed to `len`.\n",
      "  group_test = X_test.group_by('ARXSPAN_ID').count().select('count').to_series().to_list()\n"
     ]
    }
   ],
   "source": [
    "# Create group parameter for XGBoost\n",
    "group_train = X_train.group_by('ARXSPAN_ID').count().select('count').to_series().to_list()\n",
    "print(f\"shape of group_train: {len(group_train)}\")\n",
    "group_test = X_test.group_by('ARXSPAN_ID').count().select('count').to_series().to_list()\n",
    "print(f\"shape of group_test: {len(group_test)}\")\n",
    "\n",
    "# Convert data to DMatrix\n",
    "dtrain = xgb.DMatrix(X_train.select(prediction_features).to_numpy(), label=y_train.to_numpy())\n",
    "dtrain.set_group(group_train)\n",
    "print(f\"Shape of dtrain DMatrix: ({dtrain.num_row()}, {dtrain.num_col()})\")\n",
    "\n",
    "dtest = xgb.DMatrix(X_test.select(prediction_features).to_numpy(), label=y_test.to_numpy())\n",
    "dtest.set_group(group_test)\n",
    "print(f\"Shape of dtest DMatrix: ({dtest.num_row()}, {dtest.num_col()})\")\n"
   ]
  },
  {
   "cell_type": "code",
   "execution_count": 113,
   "id": "c8eca6d3-f15a-41ff-a4eb-16423a65c8cc",
   "metadata": {},
   "outputs": [],
   "source": [
    "# Define XGBoost parameters\n",
    "params = {\n",
    "    'objective': 'rank:pairwise',\n",
    "    'eta': 0.1,\n",
    "    'gamma': 1.0,\n",
    "    'min_child_weight': 0.1,\n",
    "    'max_depth': 6,\n",
    "    'eval_metric': 'ndcg'\n",
    "}"
   ]
  },
  {
   "cell_type": "code",
   "execution_count": 127,
   "id": "b523cba1-f7f1-446e-a4da-f2bc45143267",
   "metadata": {},
   "outputs": [
    {
     "name": "stdout",
     "output_type": "stream",
     "text": [
      "[0]\ttest-ndcg:0.22061\n",
      "[1]\ttest-ndcg:0.21325\n",
      "[2]\ttest-ndcg:0.21376\n",
      "[3]\ttest-ndcg:0.21827\n",
      "[4]\ttest-ndcg:0.22039\n",
      "[5]\ttest-ndcg:0.22535\n",
      "[6]\ttest-ndcg:0.22530\n",
      "[7]\ttest-ndcg:0.22643\n",
      "[8]\ttest-ndcg:0.22983\n",
      "[9]\ttest-ndcg:0.23067\n",
      "[10]\ttest-ndcg:0.22941\n",
      "[11]\ttest-ndcg:0.23267\n",
      "[12]\ttest-ndcg:0.23154\n",
      "[13]\ttest-ndcg:0.23690\n",
      "[14]\ttest-ndcg:0.23923\n",
      "[15]\ttest-ndcg:0.23508\n",
      "[16]\ttest-ndcg:0.23537\n",
      "[17]\ttest-ndcg:0.23289\n",
      "[18]\ttest-ndcg:0.23793\n",
      "[19]\ttest-ndcg:0.23793\n",
      "[20]\ttest-ndcg:0.23751\n",
      "[21]\ttest-ndcg:0.23924\n",
      "[22]\ttest-ndcg:0.23686\n",
      "[23]\ttest-ndcg:0.23779\n",
      "[24]\ttest-ndcg:0.23778\n",
      "[25]\ttest-ndcg:0.23778\n",
      "[26]\ttest-ndcg:0.23716\n",
      "[27]\ttest-ndcg:0.23583\n",
      "[28]\ttest-ndcg:0.23702\n",
      "[29]\ttest-ndcg:0.23696\n",
      "[30]\ttest-ndcg:0.23921\n",
      "[31]\ttest-ndcg:0.23828\n"
     ]
    }
   ],
   "source": [
    "# Train the model\n",
    "model = xgb.train(params, dtrain, num_boost_round=500, evals=[(dtest, 'test')], early_stopping_rounds=10)\n",
    "\n",
    "# Predict and evaluate\n",
    "y_pred = model.predict(dtest)"
   ]
  }
 ],
 "metadata": {
  "kernelspec": {
   "display_name": "Python 3 (ipykernel)",
   "language": "python",
   "name": "python3"
  },
  "language_info": {
   "codemirror_mode": {
    "name": "ipython",
    "version": 3
   },
   "file_extension": ".py",
   "mimetype": "text/x-python",
   "name": "python",
   "nbconvert_exporter": "python",
   "pygments_lexer": "ipython3",
   "version": "3.12.3"
  }
 },
 "nbformat": 4,
 "nbformat_minor": 5
}
