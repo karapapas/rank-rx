{
 "cells": [
  {
   "cell_type": "code",
   "execution_count": 1,
   "id": "e32eca0a-aed8-47d7-9816-4d4c57bf5871",
   "metadata": {},
   "outputs": [],
   "source": [
    "# Objectives:\n",
    "# 1. Make use of TensorFlow Ranking as alternative to XGBoost"
   ]
  },
  {
   "cell_type": "code",
   "execution_count": 2,
   "id": "f361a590-36cc-4bdb-b7a5-253a460efa06",
   "metadata": {},
   "outputs": [
    {
     "name": "stdout",
     "output_type": "stream",
     "text": [
      "WARNING:tensorflow:From C:\\Users\\chris\\.conda\\envs\\rankenv\\lib\\site-packages\\keras\\src\\losses.py:2976: The name tf.losses.sparse_softmax_cross_entropy is deprecated. Please use tf.compat.v1.losses.sparse_softmax_cross_entropy instead.\n",
      "\n",
      "2.15.1\n",
      "WARNING:tensorflow:From C:\\Users\\chris\\.conda\\envs\\rankenv\\lib\\site-packages\\tensorflow_estimator\\python\\estimator\\util.py:74: The name tf.train.SessionRunHook is deprecated. Please use tf.estimator.SessionRunHook instead.\n",
      "\n",
      "0.5.5.dev\n"
     ]
    }
   ],
   "source": [
    "import pdb # pdb.set_trace()\n",
    "\n",
    "import numpy as np\n",
    "# Make numpy values easier to read.\n",
    "np.set_printoptions(precision=3, suppress=True)\n",
    "\n",
    "import polars as pl\n",
    "import pandas as pd\n",
    "from typing import Dict, Tuple\n",
    "\n",
    "import tensorflow as tf\n",
    "print(tf.__version__)\n",
    "\n",
    "from tensorflow.keras import layers\n",
    "\n",
    "import tensorflow_datasets as tfds\n",
    "import tensorflow_ranking as tfr\n",
    "print(tfr.__version__)"
   ]
  },
  {
   "cell_type": "code",
   "execution_count": 3,
   "id": "001f2c5f-a72c-421c-800a-1d406d93bef6",
   "metadata": {},
   "outputs": [],
   "source": [
    "target = 'IC50_PUBLISHED'"
   ]
  },
  {
   "cell_type": "code",
   "execution_count": 4,
   "id": "278a1f0e-f5f6-4c8b-ab50-4340f4766b76",
   "metadata": {},
   "outputs": [
    {
     "name": "stdout",
     "output_type": "stream",
     "text": [
      "Shape of df_dose_resp_gdsc2 = (118908, 3)\n",
      "Unique cell lines (ARXSPAN_ID) = 794\n",
      "Unique drugs = 175\n",
      "Unique combinations of cell line x drug = 116377\n",
      "<bound method DataFrame.head of shape: (118_908, 3)\n",
      "┌─────────┬────────────┬────────────────┐\n",
      "│ DRUG_ID ┆ ARXSPAN_ID ┆ IC50_PUBLISHED │\n",
      "│ ---     ┆ ---        ┆ ---            │\n",
      "│ i64     ┆ str        ┆ f64            │\n",
      "╞═════════╪════════════╪════════════════╡\n",
      "│ 1003    ┆ ACH-000958 ┆ 0.025129       │\n",
      "│ 1003    ┆ ACH-000651 ┆ 0.049577       │\n",
      "│ 1003    ┆ ACH-000856 ┆ 0.028549       │\n",
      "│ 1003    ┆ ACH-000360 ┆ 0.039996       │\n",
      "│ 1003    ┆ ACH-001199 ┆ 1.986678       │\n",
      "│ …       ┆ …          ┆ …              │\n",
      "│ 2172    ┆ ACH-000288 ┆ 25.410793      │\n",
      "│ 2172    ┆ ACH-001065 ┆ 0.339325       │\n",
      "│ 2172    ┆ ACH-000930 ┆ 7.780877       │\n",
      "│ 2172    ┆ ACH-000859 ┆ 534.688321     │\n",
      "│ 2172    ┆ ACH-000536 ┆ 120.177282     │\n",
      "└─────────┴────────────┴────────────────┘>\n"
     ]
    }
   ],
   "source": [
    "# Read cell line to drug id to ic50\n",
    "# https://depmap.org/portal/data_page/?tab=allData&releasename=Sanger+GDSC1+and+GDSC2&filename=sanger-dose-response.csv\n",
    "# IC50 score of drugs (DRUG_ID) per cell line (COSMIC_ID) for GDSC1 and GDSC2 \n",
    "try:\n",
    "    df_dose_resp = pl.read_csv(\"C:\\\\Users\\\\chris\\\\rank-rx\\\\data\\\\sanger-dose-response.csv\")\n",
    "    df_dose_resp_gdsc2 = df_dose_resp.filter(pl.col(\"DATASET\") == \"GDSC2\")\n",
    "    df_dose_resp_gdsc2_edited = df_dose_resp_gdsc2.select([\"DRUG_ID\", \"ARXSPAN_ID\", \"IC50_PUBLISHED\"])\n",
    "    print(\"Shape of df_dose_resp_gdsc2 = {}\".format(df_dose_resp_gdsc2_edited.shape))\n",
    "    print(\"Unique cell lines (ARXSPAN_ID) = {}\".format(df_dose_resp_gdsc2_edited['ARXSPAN_ID'].unique().len()))\n",
    "    print(\"Unique drugs = {}\".format(df_dose_resp_gdsc2_edited['DRUG_ID'].unique().len()))\n",
    "    grouped = df_dose_resp_gdsc2_edited.group_by(['ARXSPAN_ID', 'DRUG_ID']).agg(pl.len())\n",
    "    print(\"Unique combinations of cell line x drug = {}\".format(grouped.shape[0]))\n",
    "    print(df_dose_resp_gdsc2_edited.head)\n",
    "except Exception as e:\n",
    "    print(f\"Error: {e}\")"
   ]
  },
  {
   "cell_type": "code",
   "execution_count": 5,
   "id": "ddeec08c-c054-4214-a865-35eb5a97d69b",
   "metadata": {},
   "outputs": [
    {
     "name": "stdout",
     "output_type": "stream",
     "text": [
      "Shape of df_depmap_model = (1959, 6)\n",
      "Unique cell lines (ModelID) ACH-XXXXXX = 1959\n",
      "shape: (5, 6)\n",
      "┌────────────┬──────────────┬─────────────┬────────┬─────────────┬─────────────────────┐\n",
      "│ ModelID    ┆ OncotreeCode ┆ AgeCategory ┆ Sex    ┆ PatientRace ┆ PrimaryOrMetastasis │\n",
      "│ ---        ┆ ---          ┆ ---         ┆ ---    ┆ ---         ┆ ---                 │\n",
      "│ str        ┆ str          ┆ str         ┆ str    ┆ str         ┆ str                 │\n",
      "╞════════════╪══════════════╪═════════════╪════════╪═════════════╪═════════════════════╡\n",
      "│ ACH-000001 ┆ HGSOC        ┆ Adult       ┆ Female ┆ caucasian   ┆ Metastatic          │\n",
      "│ ACH-000002 ┆ AML          ┆ Adult       ┆ Female ┆ caucasian   ┆ Primary             │\n",
      "│ ACH-000003 ┆ COAD         ┆ Adult       ┆ Male   ┆ caucasian   ┆ Primary             │\n",
      "│ ACH-000004 ┆ AML          ┆ Adult       ┆ Male   ┆ caucasian   ┆ Primary             │\n",
      "│ ACH-000005 ┆ AML          ┆ Adult       ┆ Male   ┆ caucasian   ┆ null                │\n",
      "└────────────┴──────────────┴─────────────┴────────┴─────────────┴─────────────────────┘\n"
     ]
    }
   ],
   "source": [
    "# Read demographics and cancer type\n",
    "# https://depmap.org/portal/data_page/?tab=allData&releasename=DepMap+Public+24Q2&filename=Model.csv\n",
    "# Mapping between 'ModelID', 'PatientID', 'SangerModelID', 'COSMICID', etc\n",
    "# ModelID here is the cell line id.\n",
    "# OncotreeCode is the type of cancer.\n",
    "try:\n",
    "    df_depmap_model = pl.read_csv(\"C:\\\\Users\\\\chris\\\\rank-rx\\\\data\\\\Model.csv\")\n",
    "    df_depmap_model_edited = df_depmap_model.select(['ModelID', 'OncotreeCode', 'AgeCategory', 'Sex', 'PatientRace', 'PrimaryOrMetastasis'])\n",
    "    print(\"Shape of df_depmap_model = {}\".format(df_depmap_model_edited.shape))\n",
    "    print(\"Unique cell lines (ModelID) ACH-XXXXXX = {}\".format(df_depmap_model_edited['ModelID'].unique().len()))\n",
    "    print(df_depmap_model_edited.head())\n",
    "except Exception as e:\n",
    "    print(f\"Error: {e}\")"
   ]
  },
  {
   "cell_type": "code",
   "execution_count": 6,
   "id": "84ba5e84-2171-43e5-b385-233d27b5bcae",
   "metadata": {},
   "outputs": [
    {
     "name": "stdout",
     "output_type": "stream",
     "text": [
      "Shape of df_gene_express = (1517, 19138)\n",
      "shape: (5, 19_138)\n",
      "┌───────────┬───────────┬───────────┬───────────┬───┬───────────┬───────────┬───────────┬──────────┐\n",
      "│ ARXSPAN_I ┆ ZNF891    ┆ ARMC10    ┆ PTGER4    ┆ … ┆ DNMT3B    ┆ ZCCHC10   ┆ PRSS2     ┆ ADAMTSL4 │\n",
      "│ D         ┆ (10106020 ┆ (83787)   ┆ (5734)    ┆   ┆ (1789)    ┆ (54819)   ┆ (5645)    ┆ (54507)  │\n",
      "│ ---       ┆ 0)        ┆ ---       ┆ ---       ┆   ┆ ---       ┆ ---       ┆ ---       ┆ ---      │\n",
      "│ str       ┆ ---       ┆ f64       ┆ f64       ┆   ┆ f64       ┆ f64       ┆ f64       ┆ f64      │\n",
      "│           ┆ f64       ┆           ┆           ┆   ┆           ┆           ┆           ┆          │\n",
      "╞═══════════╪═══════════╪═══════════╪═══════════╪═══╪═══════════╪═══════════╪═══════════╪══════════╡\n",
      "│ ACH-00005 ┆ 0.984137  ┆ 4.524944  ┆ 2.019524  ┆ … ┆ 2.320999  ┆ 5.005448  ┆ 0.169594  ┆ 1.356288 │\n",
      "│ 8         ┆           ┆           ┆           ┆   ┆           ┆           ┆           ┆          │\n",
      "│ ACH-00008 ┆ 1.335101  ┆ 3.974294  ┆ 1.923885  ┆ … ┆ 2.48262   ┆ 4.645063  ┆ 0.229243  ┆ 0.795239 │\n",
      "│ 2         ┆           ┆           ┆           ┆   ┆           ┆           ┆           ┆          │\n",
      "│ ACH-00086 ┆ 0.752579  ┆ 4.698468  ┆ 4.105001  ┆ … ┆ 2.047717  ┆ 4.499003  ┆ 0.26387   ┆ 6.488749 │\n",
      "│ 7         ┆           ┆           ┆           ┆   ┆           ┆           ┆           ┆          │\n",
      "│ ACH-00043 ┆ 1.589078  ┆ 5.694567  ┆ 3.362272  ┆ … ┆ 2.239845  ┆ 4.778812  ┆ 0.26387   ┆ 1.205591 │\n",
      "│ 7         ┆           ┆           ┆           ┆   ┆           ┆           ┆           ┆          │\n",
      "│ ACH-00054 ┆ 0.530802  ┆ 5.76315   ┆ 0.609288  ┆ … ┆ 1.300537  ┆ 4.56258   ┆ -0.012068 ┆ 0.707417 │\n",
      "│ 4         ┆           ┆           ┆           ┆   ┆           ┆           ┆           ┆          │\n",
      "└───────────┴───────────┴───────────┴───────────┴───┴───────────┴───────────┴───────────┴──────────┘\n"
     ]
    }
   ],
   "source": [
    "# Read gene expression data OmicsExpressionProteinCodingGenesTPMLogp1BatchCorrected\n",
    "try:\n",
    "    df_gene_express = pl.read_csv(\"C:\\\\Users\\\\chris\\\\rank-rx\\\\data\\\\OmicsExpressionProteinCodingGenesTPMLogp1BatchCorrected.csv\")\n",
    "    df_gene_express = df_gene_express.rename({'': 'ARXSPAN_ID'})\n",
    "    \n",
    "    # TODO when this section becomes a method, then all genes should be selected by default if no specific genes or feature selection method are declared.\n",
    "    # gene_col_names = df_gene_express.columns\n",
    "    # gene_col_names.remove('ARXSPAN_ID')\n",
    "    # Based on this research https://bmcbioinformatics.biomedcentral.com/articles/10.1186/s12859-022-04678-y\n",
    "    gene_col_names = [\n",
    "        'ZMIZ1 (57178)', 'ENG (2022)', 'FGFR1 (2260)', \n",
    "        'PAWR (5074)', 'KRT17 (3872)', 'MPO (4353)', \n",
    "        'LAT2 (7462)'\n",
    "    ]\n",
    "    \n",
    "    # # print(gene_col_names)\n",
    "    print(\"Shape of df_gene_express = {}\".format(df_gene_express.shape))\n",
    "    print(df_gene_express.head())\n",
    "except pl.errors.ParserError as e:\n",
    "    print(f\"Error: {e}\")"
   ]
  },
  {
   "cell_type": "code",
   "execution_count": 7,
   "id": "c2080a2d-0673-485f-951d-bc438b877502",
   "metadata": {},
   "outputs": [
    {
     "name": "stdout",
     "output_type": "stream",
     "text": [
      "Shape of df_dose_model = (115502, 8)\n",
      "shape: (5, 8)\n",
      "┌─────────┬────────────┬─────────────┬─────────────┬────────────┬────────┬────────────┬────────────┐\n",
      "│ DRUG_ID ┆ ARXSPAN_ID ┆ IC50_PUBLIS ┆ OncotreeCod ┆ AgeCategor ┆ Sex    ┆ PatientRac ┆ PrimaryOrM │\n",
      "│ ---     ┆ ---        ┆ HED         ┆ e           ┆ y          ┆ ---    ┆ e          ┆ etastasis  │\n",
      "│ i64     ┆ str        ┆ ---         ┆ ---         ┆ ---        ┆ str    ┆ ---        ┆ ---        │\n",
      "│         ┆            ┆ f64         ┆ str         ┆ str        ┆        ┆ str        ┆ str        │\n",
      "╞═════════╪════════════╪═════════════╪═════════════╪════════════╪════════╪════════════╪════════════╡\n",
      "│ 1003    ┆ ACH-000958 ┆ 0.025129    ┆ COAD        ┆ Adult      ┆ Female ┆ caucasian  ┆ Primary    │\n",
      "│ 1003    ┆ ACH-000651 ┆ 0.049577    ┆ COAD        ┆ Adult      ┆ Male   ┆ caucasian  ┆ Metastatic │\n",
      "│ 1003    ┆ ACH-000856 ┆ 0.028549    ┆ BRCA        ┆ Adult      ┆ Female ┆ null       ┆ Metastatic │\n",
      "│ 1003    ┆ ACH-000360 ┆ 0.039996    ┆ COAD        ┆ Adult      ┆ Male   ┆ caucasian  ┆ Metastatic │\n",
      "│ 1003    ┆ ACH-001199 ┆ 1.986678    ┆ COAD        ┆ Adult      ┆ Female ┆ asian      ┆ Primary    │\n",
      "└─────────┴────────────┴─────────────┴─────────────┴────────────┴────────┴────────────┴────────────┘\n"
     ]
    }
   ],
   "source": [
    "# Join ic50 dataset with model dataset\n",
    "# This should have been 118908 rows just like df_dose_resp_gdsc2 but it's 115502 probably because model df doesn't have some cell lines of ic50 df.\n",
    "try:\n",
    "    assert df_dose_resp_gdsc2_edited[\"ARXSPAN_ID\"].dtype == df_depmap_model_edited[\"ModelID\"].dtype\n",
    "    df_dose_model = df_dose_resp_gdsc2_edited.join(other = df_depmap_model_edited, left_on=\"ARXSPAN_ID\", right_on=\"ModelID\")\n",
    "    print(\"Shape of df_dose_model = {}\".format(df_dose_model.shape))\n",
    "    print(df_dose_model.head())\n",
    "except pl.errors.ParserError as e:\n",
    "    print(f\"Error: {e}\")"
   ]
  },
  {
   "cell_type": "code",
   "execution_count": 8,
   "id": "1909e094-9d67-4f79-9659-86258ba75daa",
   "metadata": {},
   "outputs": [
    {
     "name": "stdout",
     "output_type": "stream",
     "text": [
      "Shape of df_dose_model_gene_express = (88976, 19145)\n",
      "shape: (5, 19_145)\n",
      "┌─────────┬────────────┬───────────┬───────────┬───┬───────────┬───────────┬───────────┬───────────┐\n",
      "│ DRUG_ID ┆ ARXSPAN_ID ┆ IC50_PUBL ┆ OncotreeC ┆ … ┆ DNMT3B    ┆ ZCCHC10   ┆ PRSS2     ┆ ADAMTSL4  │\n",
      "│ ---     ┆ ---        ┆ ISHED     ┆ ode       ┆   ┆ (1789)    ┆ (54819)   ┆ (5645)    ┆ (54507)   │\n",
      "│ i64     ┆ str        ┆ ---       ┆ ---       ┆   ┆ ---       ┆ ---       ┆ ---       ┆ ---       │\n",
      "│         ┆            ┆ f64       ┆ str       ┆   ┆ f64       ┆ f64       ┆ f64       ┆ f64       │\n",
      "╞═════════╪════════════╪═══════════╪═══════════╪═══╪═══════════╪═══════════╪═══════════╪═══════════╡\n",
      "│ 1003    ┆ ACH-000958 ┆ 0.025129  ┆ COAD      ┆ … ┆ 2.072003  ┆ 4.69381   ┆ 0.240879  ┆ 0.560533  │\n",
      "│ 1003    ┆ ACH-000651 ┆ 0.049577  ┆ COAD      ┆ … ┆ 2.745968  ┆ 4.884648  ┆ 3.368963  ┆ 0.335325  │\n",
      "│ 1003    ┆ ACH-000856 ┆ 0.028549  ┆ BRCA      ┆ … ┆ 3.51348   ┆ 4.950103  ┆ -0.054202 ┆ 2.401006  │\n",
      "│ 1003    ┆ ACH-000360 ┆ 0.039996  ┆ COAD      ┆ … ┆ 0.986766  ┆ 3.83695   ┆ 0.107339  ┆ 0.082209  │\n",
      "│ 1003    ┆ ACH-000400 ┆ 0.00482   ┆ COAD      ┆ … ┆ 1.551088  ┆ 4.322617  ┆ 0.068637  ┆ 1.521804  │\n",
      "└─────────┴────────────┴───────────┴───────────┴───┴───────────┴───────────┴───────────┴───────────┘\n"
     ]
    }
   ],
   "source": [
    "# Join ic50 & model dataset with gene expression dataset\n",
    "try:\n",
    "    assert df_dose_model[\"ARXSPAN_ID\"].dtype == df_gene_express[\"ARXSPAN_ID\"].dtype\n",
    "    df_dose_model_gene_express = df_dose_model.join(df_gene_express, left_on=\"ARXSPAN_ID\", right_on=\"ARXSPAN_ID\")\n",
    "    # df_dose_model_gene_express = df_dose_model.join(df_gene_express.select(['ARXSPAN_ID'] + gene_col_names), left_on=\"ARXSPAN_ID\", right_on=\"ARXSPAN_ID\")\n",
    "    print(\"Shape of df_dose_model_gene_express = {}\".format(df_dose_model_gene_express.shape))\n",
    "    print(df_dose_model_gene_express.head())\n",
    "except Exception as e:\n",
    "    print(f\"Error: {e}\")"
   ]
  },
  {
   "cell_type": "code",
   "execution_count": 9,
   "id": "7031ba62-c30e-4aeb-856e-1ea0e2cc2988",
   "metadata": {},
   "outputs": [
    {
     "name": "stdout",
     "output_type": "stream",
     "text": [
      "(88976, 19145)\n"
     ]
    }
   ],
   "source": [
    "data_pandas = df_dose_model_gene_express.to_pandas()\n",
    "print(df_final.shape)"
   ]
  },
  {
   "cell_type": "code",
   "execution_count": null,
   "id": "c9ea2636-f07b-481b-8946-ddc9e095af01",
   "metadata": {},
   "outputs": [],
   "source": [
    "data_pandas = data_pandas"
   ]
  },
  {
   "cell_type": "code",
   "execution_count": null,
   "id": "26fa1f21-4c50-467f-8ba7-d072cc8d6cc2",
   "metadata": {},
   "outputs": [],
   "source": [
    "# ratings = tfds.load('movielens/100k-ratings', split=\"train\")\n",
    "# print(type(ratings))\n",
    "# <class 'tensorflow.python.data.ops.prefetch_op._PrefetchDataset'>\n",
    "\n",
    "dc_basic = df_dose_model_gene_express.select([\"ARXSPAN_ID\", \"OncotreeCode\", \"ZMIZ1 (57178)\", \"IC50_PUBLISHED\"])\n",
    "    # ARXSPAN_ID as user id\n",
    "    # OncotreeCode and ZMIZ1 (57178) as movie title\n",
    "    # IC50_PUBLISHED as user rating"
   ]
  },
  {
   "cell_type": "code",
   "execution_count": null,
   "id": "726f04dc-386b-486b-b5e1-2eadd7f66cfa",
   "metadata": {},
   "outputs": [],
   "source": [
    "# Build vocabularies to convert all user ids and all movie titles into integer indices for embedding layers\n",
    "cell_line_ids = dc_basic.select([\"ARXSPAN_ID\"]).to_numpy()\n",
    "cell_lines = tf.data.Dataset.from_tensor_slices(cell_line_ids)\n",
    "cell_line_ids_vocab =  tf.keras.layers.experimental.preprocessing.StringLookup(mask_token=None)\n",
    "cell_line_ids_vocab.adapt(cell_lines.batch(1000))\n",
    "\n",
    "onco_ids = dc_basic.select([\"OncotreeCode\"]).fill_nan(0)\n",
    "onco_ids = onco_ids.to_numpy()\n",
    "\n",
    "# Check for NaN values\n",
    "is_nan = np.isnan(onco_ids.astype(float))\n",
    "\n",
    "# Check for None values\n",
    "is_none = onco_ids == None  # Using '==' comparison for None\n",
    "\n",
    "# Check for empty strings\n",
    "is_empty_string = onco_ids == \"\"\n",
    "\n",
    "# Combine checks\n",
    "has_nan = np.any(is_nan)\n",
    "has_none = np.any(is_none)\n",
    "has_empty_string = np.any(is_empty_string)\n",
    "\n",
    "# Print results\n",
    "print(f\"Contains NaN: {has_nan}\")\n",
    "print(f\"Contains None: {has_none}\")\n",
    "print(f\"Contains empty string: {has_empty_string}\")\n",
    "\n",
    "\n",
    "oncos = tf.data.Dataset.from_tensor_slices(onco_ids)\n",
    "onco_ids_vocab = tf.keras.layers.experimental.preprocessing.StringLookup(mask_token=None)\n",
    "onco_ids_vocab.adapt(oncos.batch(1000))"
   ]
  },
  {
   "cell_type": "code",
   "execution_count": null,
   "id": "807eb772-bfc8-454f-95c0-2bc16dce2bc2",
   "metadata": {},
   "outputs": [],
   "source": [
    "# Group by ARXSPAN_ID to form lists for ranking models\n",
    "key_func = lambda x: user_ids_vocabulary(x[\"ARXSPAN_ID\"])\n",
    "reduce_func = lambda key, dataset: dataset.batch(100)\n",
    "ds_train = dc_basic.group_by_window(\n",
    "    key_func=key_func, reduce_func=reduce_func, window_size=100)\n"
   ]
  },
  {
   "cell_type": "code",
   "execution_count": null,
   "id": "d87f21a4-3e1f-4f4d-952d-961ff81005d6",
   "metadata": {},
   "outputs": [],
   "source": [
    "for x in ds_train.take(1):\n",
    "  for key, value in x.items():\n",
    "    print(f\"Shape of {key}: {value.shape}\")\n",
    "    print(f\"Example values of {key}: {value[:5].numpy()}\")\n",
    "    print()"
   ]
  },
  {
   "cell_type": "code",
   "execution_count": null,
   "id": "d7769202-eb9b-4a4c-bd9d-cd6ad6d6fd4b",
   "metadata": {},
   "outputs": [],
   "source": []
  }
 ],
 "metadata": {
  "kernelspec": {
   "display_name": "Python 3 (ipykernel)",
   "language": "python",
   "name": "python3"
  },
  "language_info": {
   "codemirror_mode": {
    "name": "ipython",
    "version": 3
   },
   "file_extension": ".py",
   "mimetype": "text/x-python",
   "name": "python",
   "nbconvert_exporter": "python",
   "pygments_lexer": "ipython3",
   "version": "3.10.14"
  }
 },
 "nbformat": 4,
 "nbformat_minor": 5
}
